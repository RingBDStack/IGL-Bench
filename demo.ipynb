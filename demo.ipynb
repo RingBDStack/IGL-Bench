{
 "cells": [
  {
   "cell_type": "markdown",
   "id": "6c3f684e",
   "metadata": {},
   "source": [
    "# 🧪 IGL-Bench: Quick Start for Node and Graph Classification"
   ]
  },
  {
   "cell_type": "markdown",
   "id": "df4c4617",
   "metadata": {},
   "source": [
    "\n",
    "This notebook demonstrates how to use the **IGL-Bench** framework for running node-level and graph-level classification tasks under various imbalance settings.  \n",
    "It shows how to:\n",
    "- Initialize datasets with imbalance configurations\n",
    "- Load benchmark configurations\n",
    "- Run a selected algorithm on the data using the unified interface.\n"
   ]
  },
  {
   "cell_type": "code",
   "execution_count": null,
   "id": "6ef10ee1",
   "metadata": {},
   "outputs": [],
   "source": [
    "# Step 1: Import Benchmark Framework\n",
    "import IGL_Bench as igl"
   ]
  },
  {
   "cell_type": "markdown",
   "id": "4fd58a73",
   "metadata": {},
   "source": [
    "## 🔹 Node-Level Classification Task"
   ]
  },
  {
   "cell_type": "code",
   "execution_count": null,
   "id": "40b9512f",
   "metadata": {},
   "outputs": [],
   "source": [
    "# Step 2: Initialize Node-Level Dataset\n",
    "node_dataset_builder = igl.dataset.Dataset(\n",
    "    task=\"node\",\n",
    "    data_name=\"Cora\",              # Choose from: ['Cora', 'CiteSeer', 'PubMed', 'Photo', 'Computers', 'ogbn-arxiv', 'Chameleon', 'Squirrel', 'Actor']\n",
    "    imb_type=\"topo_global\",        # Choose from: ['class', 'topo_local', 'topo_global']\n",
    "    imb_level=\"high\"               # Choose from: ['low', 'mid', 'high']\n",
    ")"
   ]
  },
  {
   "cell_type": "code",
   "execution_count": null,
   "id": "dc9c85ba",
   "metadata": {},
   "outputs": [],
   "source": [
    "# Step 3: Load Node-Level Dataset\n",
    "node_dataset = node_dataset_builder.load_dataset()"
   ]
  },
  {
   "cell_type": "code",
   "execution_count": null,
   "id": "74a4cc02",
   "metadata": {},
   "outputs": [],
   "source": [
    "# Step 4: Load Configuration for Node-Level Algorithm\n",
    "node_config = igl.config.load_conf(\n",
    "    task=\"node\",\n",
    "    imbtype=\"topo_global\",\n",
    "    algorithm=\"PASTEL\"             # Replace with any implemented algorithm\n",
    ")"
   ]
  },
  {
   "cell_type": "code",
   "execution_count": null,
   "id": "f4e11f62",
   "metadata": {},
   "outputs": [],
   "source": [
    "# Step 5: Run Node-Level Solver\n",
    "node_solver = igl.manage.Manager(node_config, node_dataset)\n",
    "node_solver.run(num_runs=5)"
   ]
  },
  {
   "cell_type": "markdown",
   "id": "97ff816c",
   "metadata": {},
   "source": [
    "## 🔸 Graph-Level Classification Task"
   ]
  },
  {
   "cell_type": "code",
   "execution_count": null,
   "id": "efb42c56",
   "metadata": {},
   "outputs": [],
   "source": [
    "# Step 6: Initialize Graph-Level Dataset\n",
    "graph_dataset_builder = igl.dataset.Dataset(\n",
    "    task=\"graph\",\n",
    "    data_name=\"D&D\",               # Choose from: ['PTC-MR', 'FRANKENSTEIN', 'PROTEINS', 'IMDB-B', 'REDDIT-B', 'ogbg-molhiv', 'COLLAB', 'D&D']\n",
    "    imb_type=\"class\",              # Choose from: ['class', 'topology']\n",
    "    imb_level=\"low\"                # Choose from: ['low', 'mid', 'high']\n",
    ")"
   ]
  },
  {
   "cell_type": "code",
   "execution_count": null,
   "id": "eb15f120",
   "metadata": {},
   "outputs": [],
   "source": [
    "# Step 7: Load Graph-Level Dataset\n",
    "graph_dataset = graph_dataset_builder.load_dataset()"
   ]
  },
  {
   "cell_type": "code",
   "execution_count": null,
   "id": "d91ed1e5",
   "metadata": {},
   "outputs": [],
   "source": [
    "# Step 8: Load Configuration for Graph-Level Algorithm\n",
    "graph_config = igl.config.load_conf(\n",
    "    task=\"graph\",\n",
    "    imbtype=\"class\",\n",
    "    algorithm=\"G2GNN\"              # Replace with any implemented algorithm\n",
    ")"
   ]
  },
  {
   "cell_type": "code",
   "execution_count": null,
   "id": "d88600d0",
   "metadata": {},
   "outputs": [],
   "source": [
    "# Step 9: Run Graph-Level Solver\n",
    "graph_solver = igl.manage.Manager(graph_config, graph_dataset)\n",
    "graph_solver.run(num_runs=10)"
   ]
  },
  {
   "cell_type": "markdown",
   "id": "1cdffa79",
   "metadata": {},
   "source": [
    "\n",
    "### ✅ Summary\n",
    "\n",
    "This notebook walked through the unified API provided by IGL-Bench for running experiments on imbalanced graph datasets.  \n",
    "You can now:\n",
    "- Switch datasets, imbalance settings, and algorithms easily\n",
    "- Modify the number of runs or inspect detailed solver outputs\n",
    "- Customize training pipelines by editing the algorithm-specific configuration files (`config/`) for hyperparameter tuning\n",
    "- Extend this workflow with visualization, logging, or evaluation as needed\n"
   ]
  }
 ],
 "metadata": {
  "language_info": {
   "name": "python"
  }
 },
 "nbformat": 4,
 "nbformat_minor": 5
}
